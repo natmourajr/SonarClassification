{
 "cells": [
  {
   "cell_type": "markdown",
   "id": "540cb116",
   "metadata": {},
   "source": [
    "# Train Configuration Files"
   ]
  },
  {
   "cell_type": "markdown",
   "id": "0bbd6ffe",
   "metadata": {},
   "source": [
    "Cada treinamento vai ter um identificador hash que vai permear todo o processo."
   ]
  },
  {
   "cell_type": "code",
   "execution_count": 11,
   "id": "665ff2e5",
   "metadata": {},
   "outputs": [
    {
     "ename": "ImportError",
     "evalue": "attempted relative import with no known parent package",
     "output_type": "error",
     "traceback": [
      "\u001b[0;31m---------------------------------------------------------------------------\u001b[0m",
      "\u001b[0;31mImportError\u001b[0m                               Traceback (most recent call last)",
      "Cell \u001b[0;32mIn [11], line 5\u001b[0m\n\u001b[1;32m      3\u001b[0m \u001b[38;5;28;01mimport\u001b[39;00m \u001b[38;5;21;01mpickle\u001b[39;00m\n\u001b[1;32m      4\u001b[0m \u001b[38;5;28;01mimport\u001b[39;00m \u001b[38;5;21;01mnumpy\u001b[39;00m \u001b[38;5;28;01mas\u001b[39;00m \u001b[38;5;21;01mnp\u001b[39;00m\n\u001b[0;32m----> 5\u001b[0m \u001b[38;5;28;01mfrom\u001b[39;00m \u001b[38;5;21;01m.\u001b[39;00m\u001b[38;5;21;01m.\u001b[39;00m\u001b[38;5;21;01msrc\u001b[39;00m \u001b[38;5;28;01mimport\u001b[39;00m \u001b[38;5;241m*\u001b[39m\n",
      "\u001b[0;31mImportError\u001b[0m: attempted relative import with no known parent package"
     ]
    }
   ],
   "source": [
    "import os\n",
    "import pandas as pd\n",
    "import pickle\n",
    "import numpy as np\n",
    "from ..src import *"
   ]
  },
  {
   "cell_type": "code",
   "execution_count": 14,
   "id": "6001a1e0",
   "metadata": {},
   "outputs": [
    {
     "data": {
      "text/plain": [
       "['/tf/notebooks',\n",
       " '/usr/lib/python38.zip',\n",
       " '/usr/lib/python3.8',\n",
       " '/usr/lib/python3.8/lib-dynload',\n",
       " '',\n",
       " '/usr/local/lib/python3.8/dist-packages',\n",
       " '/usr/lib/python3/dist-packages']"
      ]
     },
     "execution_count": 14,
     "metadata": {},
     "output_type": "execute_result"
    }
   ],
   "source": [
    "os.sys.path"
   ]
  },
  {
   "cell_type": "code",
   "execution_count": null,
   "id": "1d06a75f",
   "metadata": {},
   "outputs": [],
   "source": [
    "# Configurações gerais\n",
    "hash_id = hash('treinamento1')\n",
    "label = 'ShipsEar NN Classification' # etiqueta do treinamento\n",
    "wav_files_path = '../data/shipsEar_AUDIOS' # caminho para os arquivos wav\n",
    "processed_file_folder =  '../data' # caminho para o arquivo único com todos os dados crus - processed_data.csv\n",
    "processed_file_path =  os.path.join('../data','%s_processed_data.csv'%(hash_id)) # caminho para o arquivo único com todos os dados crus - processed_data.csv\n",
    "wav_files_info = os.path.join(processed_file_folder,'wav_file_informations.csv')\n",
    "\n",
    "# Configurações da Validação Cruzada\n",
    "cv_alg = 'StratifiedKFolds'\n",
    "cv_folds = [5]\n",
    "cv_path = os.path.join(processed_file_folder,'indexes')\n",
    "\n",
    "# Configurações de Pré-Processamento\n",
    "preproc_alg = 'Lofar'\n",
    "preproc_n_fft_points = 1024\n",
    "preproc_overlap = 0\n",
    "preproc_spectrum_bins_left = 400\n",
    "\n",
    "# Configurações de Pipeline\n",
    "pipeline_path = os.path.join(processed_file_folder,'pipelines')\n",
    "scaler_alg = 'StandardScaler'\n",
    "\n",
    "# Arquivos de Treinamento\n",
    "train_data_path = os.path.join(processed_file_folder,'%s_train_data.csv'%(hash_id)) # caminho para o arquivo único com todos os dados para treinamento - train_data_file.csv\n",
    "train_trgt_path = os.path.join(processed_file_folder,'%s_trgt_data.csv'%(hash_id)) # caminho para o arquivo único com todos os alvos para treinamento - train_trgt_file.csv\n",
    "target_label_file = os.path.join(processed_file_folder,'models/train_label_file.csv')\n",
    "target_id_file = os.path.join(processed_file_folder,'models/train_id_file.csv')\n",
    "model_path = os.path.join(processed_file_folder,'models') # caminho para onde os modelos serão enviados\n",
    "model_inits = 1 # numero de inicializações que serão feitas durante o treinamento\n",
    "model_neurons = '../data/models/%s_hidden_neurons.pkl'%(hash_id) # arquivo com todas as possibilidade de quantidade de neuronios na camada escondida\n",
    "model_status = '../data/models/%s_model_status.pkl'%(hash_id) # arquivo com todas as possibilidade de quantidade de neuronios na camada escondida"
   ]
  },
  {
   "cell_type": "code",
   "execution_count": null,
   "id": "7a496462",
   "metadata": {},
   "outputs": [],
   "source": [
    "dict_buffer = { \n",
    "    'hash_id':[hash_id],\n",
    "    'label':[label],\n",
    "    'wav_files_path':[wav_files_path],\n",
    "    'processed_file_folder':[processed_file_folder],\n",
    "    'processed_file_path':[processed_file_path],\n",
    "    'wav_files_info':[wav_files_info],\n",
    "    'cv_alg':[cv_alg],\n",
    "    'cv_folds':cv_folds,\n",
    "    'cv_path':cv_path,\n",
    "    'preproc_alg':[preproc_alg],\n",
    "    'preproc_n_fft_points':[preproc_n_fft_points],\n",
    "    'preproc_overlap':[preproc_overlap],\n",
    "    'preproc_spectrum_bins_left':[preproc_spectrum_bins_left],\n",
    "    'pipeline_path':[pipeline_path],\n",
    "    'scaler_alg':[scaler_alg],\n",
    "    'train_data_path':[train_data_path],\n",
    "    'train_trgt_path':[train_trgt_path],\n",
    "    'target_label_file':[target_label_file],\n",
    "    'target_id_file':[target_id_file],\n",
    "    'model_path':[model_path],\n",
    "    'model_inits':model_inits,\n",
    "    'model_neurons':[model_neurons],\n",
    "    'model_status':[model_status]\n",
    "}\n",
    "df_buffer = pd.DataFrame(data=dict_buffer)"
   ]
  },
  {
   "cell_type": "code",
   "execution_count": null,
   "id": "878555f2",
   "metadata": {},
   "outputs": [],
   "source": [
    "df_buffer.head()"
   ]
  },
  {
   "cell_type": "code",
   "execution_count": null,
   "id": "30238186",
   "metadata": {},
   "outputs": [],
   "source": [
    "config_file_path = '../data/config.csv'\n",
    "if os.path.exists(config_file_path) == False:\n",
    "    # arquivo não existe\n",
    "    df_buffer.to_csv(config_file_path, index=False)\n",
    "else:\n",
    "    # arquivo existe\n",
    "    df_old = pd.read_csv(config_file_path)\n",
    "    if (hash_id in list(df_old['hash_id'])):\n",
    "        # o hash_id já está salvo\n",
    "        print('o hash_id já está salvo')\n",
    "    else:\n",
    "        df_old = pd.concat([df_old,df_buffer],axis=0, ignore_index=True)\n",
    "        df_old.to_csv(config_file_path)"
   ]
  },
  {
   "cell_type": "code",
   "execution_count": null,
   "id": "1d4e6212",
   "metadata": {},
   "outputs": [],
   "source": [
    "train_id = 0\n",
    "df_config = pd.read_csv(config_file_path)"
   ]
  },
  {
   "cell_type": "code",
   "execution_count": null,
   "id": "85e29ea2",
   "metadata": {},
   "outputs": [],
   "source": [
    "hidden_neurons = [1, 2, 3, 4, 5, 6, 7, 8, 9, 10]\n",
    "#hidden_neurons = [1]\n",
    "if os.path.exists(df_config['model_neurons'][train_id]) == False:\n",
    "    write_list_of_hidden_neurons(df_config['model_neurons'][train_id],hidden_neurons)\n",
    "else:\n",
    "    print('O arquivo %s já existe'%(df_config['model_neurons'][train_id]))"
   ]
  },
  {
   "cell_type": "code",
   "execution_count": null,
   "id": "01ac7b02",
   "metadata": {},
   "outputs": [],
   "source": [
    "if os.path.exists(df_config['model_status'][train_id]) == False:\n",
    "    hidden_neurons = get_list_of_hidden_neurons(df_config['model_neurons'][train_id])\n",
    "    model_status = np.zeros([df_config['cv_folds'][train_id],len(hidden_neurons),df_config['model_inits'][train_id]],dtype=bool)\n",
    "    with open(df_config['model_status'][train_id],'wb') as file_handler:\n",
    "        pickle.dump([model_status],file_handler)\n",
    "else:\n",
    "    print('O arquivo %s já existe'%(df_config['model_status'][train_id]))"
   ]
  }
 ],
 "metadata": {
  "kernelspec": {
   "display_name": "Python 3",
   "language": "python",
   "name": "python3"
  },
  "language_info": {
   "codemirror_mode": {
    "name": "ipython",
    "version": 3
   },
   "file_extension": ".py",
   "mimetype": "text/x-python",
   "name": "python",
   "nbconvert_exporter": "python",
   "pygments_lexer": "ipython3",
   "version": "3.8.10"
  }
 },
 "nbformat": 4,
 "nbformat_minor": 5
}
