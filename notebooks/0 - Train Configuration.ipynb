{
 "cells": [
  {
   "cell_type": "markdown",
   "id": "540cb116",
   "metadata": {},
   "source": [
    "# Train Configuration Files"
   ]
  },
  {
   "cell_type": "markdown",
   "id": "0bbd6ffe",
   "metadata": {},
   "source": [
    "Cada treinamento vai ter um identificador hash que vai permear todo o processo."
   ]
  },
  {
   "cell_type": "code",
   "execution_count": null,
   "id": "f5a8867e",
   "metadata": {},
   "outputs": [],
   "source": [
    "!pip install .."
   ]
  },
  {
   "cell_type": "code",
   "execution_count": 1,
   "id": "665ff2e5",
   "metadata": {},
   "outputs": [],
   "source": [
    "import os\n",
    "import pandas as pd\n",
    "import pickle\n",
    "import numpy as np\n",
    "import src\n",
    "from src.functions.AuxiliarFunctions import *"
   ]
  },
  {
   "cell_type": "code",
   "execution_count": 3,
   "id": "1d06a75f",
   "metadata": {},
   "outputs": [],
   "source": [
    "# Configurações gerais\n",
    "hash_id = hash('treinamento1')\n",
    "label = 'ShipsEar NN Classification' # etiqueta do treinamento\n",
    "wav_files_path = '../data/shipsEar_AUDIOS' # caminho para os arquivos wav\n",
    "processed_file_folder =  '../data' # caminho para o arquivo único com todos os dados crus - processed_data.csv\n",
    "processed_file_path =  os.path.join('../data','%s_processed_data.csv'%(hash_id)) # caminho para o arquivo único com todos os dados crus - processed_data.csv\n",
    "wav_files_info = os.path.join(processed_file_folder,'wav_file_informations.csv')\n",
    "\n",
    "# Configurações da Validação Cruzada\n",
    "cv_alg = 'StratifiedKFolds'\n",
    "cv_folds = [5]\n",
    "cv_path = os.path.join(processed_file_folder,'indexes')\n",
    "\n",
    "# Configurações de Pré-Processamento\n",
    "preproc_alg = 'Lofar'\n",
    "preproc_n_fft_points = 1024\n",
    "preproc_overlap = 0\n",
    "preproc_spectrum_bins_left = 400\n",
    "\n",
    "# Configurações de Pipeline\n",
    "pipeline_path = os.path.join(processed_file_folder,'pipelines')\n",
    "scaler_alg = 'StandardScaler'\n",
    "\n",
    "# Arquivos de Treinamento\n",
    "train_data_path = os.path.join(processed_file_folder,'%s_train_data.csv'%(hash_id)) # caminho para o arquivo único com todos os dados para treinamento - train_data_file.csv\n",
    "train_trgt_path = os.path.join(processed_file_folder,'%s_trgt_data.csv'%(hash_id)) # caminho para o arquivo único com todos os alvos para treinamento - train_trgt_file.csv\n",
    "target_label_file = os.path.join(processed_file_folder,'models/train_label_file.csv')\n",
    "target_id_file = os.path.join(processed_file_folder,'models/train_id_file.csv')\n",
    "model_path = os.path.join(processed_file_folder,'models') # caminho para onde os modelos serão enviados\n",
    "model_inits = 1 # numero de inicializações que serão feitas durante o treinamento\n",
    "model_neurons = '../data/models/%s_hidden_neurons.pkl'%(hash_id) # arquivo com todas as possibilidade de quantidade de neuronios na camada escondida\n",
    "model_status = '../data/models/%s_model_status.pkl'%(hash_id) # arquivo com todas as possibilidade de quantidade de neuronios na camada escondida"
   ]
  },
  {
   "cell_type": "code",
   "execution_count": 4,
   "id": "7a496462",
   "metadata": {},
   "outputs": [],
   "source": [
    "dict_buffer = { \n",
    "    'hash_id':[hash_id],\n",
    "    'label':[label],\n",
    "    'wav_files_path':[wav_files_path],\n",
    "    'processed_file_folder':[processed_file_folder],\n",
    "    'processed_file_path':[processed_file_path],\n",
    "    'wav_files_info':[wav_files_info],\n",
    "    'cv_alg':[cv_alg],\n",
    "    'cv_folds':cv_folds,\n",
    "    'cv_path':cv_path,\n",
    "    'preproc_alg':[preproc_alg],\n",
    "    'preproc_n_fft_points':[preproc_n_fft_points],\n",
    "    'preproc_overlap':[preproc_overlap],\n",
    "    'preproc_spectrum_bins_left':[preproc_spectrum_bins_left],\n",
    "    'pipeline_path':[pipeline_path],\n",
    "    'scaler_alg':[scaler_alg],\n",
    "    'train_data_path':[train_data_path],\n",
    "    'train_trgt_path':[train_trgt_path],\n",
    "    'target_label_file':[target_label_file],\n",
    "    'target_id_file':[target_id_file],\n",
    "    'model_path':[model_path],\n",
    "    'model_inits':model_inits,\n",
    "    'model_neurons':[model_neurons],\n",
    "    'model_status':[model_status]\n",
    "}\n",
    "df_buffer = pd.DataFrame(data=dict_buffer)"
   ]
  },
  {
   "cell_type": "code",
   "execution_count": 5,
   "id": "878555f2",
   "metadata": {},
   "outputs": [
    {
     "data": {
      "text/html": [
       "<div>\n",
       "<style scoped>\n",
       "    .dataframe tbody tr th:only-of-type {\n",
       "        vertical-align: middle;\n",
       "    }\n",
       "\n",
       "    .dataframe tbody tr th {\n",
       "        vertical-align: top;\n",
       "    }\n",
       "\n",
       "    .dataframe thead th {\n",
       "        text-align: right;\n",
       "    }\n",
       "</style>\n",
       "<table border=\"1\" class=\"dataframe\">\n",
       "  <thead>\n",
       "    <tr style=\"text-align: right;\">\n",
       "      <th></th>\n",
       "      <th>hash_id</th>\n",
       "      <th>label</th>\n",
       "      <th>wav_files_path</th>\n",
       "      <th>processed_file_folder</th>\n",
       "      <th>processed_file_path</th>\n",
       "      <th>wav_files_info</th>\n",
       "      <th>cv_alg</th>\n",
       "      <th>cv_folds</th>\n",
       "      <th>cv_path</th>\n",
       "      <th>preproc_alg</th>\n",
       "      <th>...</th>\n",
       "      <th>pipeline_path</th>\n",
       "      <th>scaler_alg</th>\n",
       "      <th>train_data_path</th>\n",
       "      <th>train_trgt_path</th>\n",
       "      <th>target_label_file</th>\n",
       "      <th>target_id_file</th>\n",
       "      <th>model_path</th>\n",
       "      <th>model_inits</th>\n",
       "      <th>model_neurons</th>\n",
       "      <th>model_status</th>\n",
       "    </tr>\n",
       "  </thead>\n",
       "  <tbody>\n",
       "    <tr>\n",
       "      <th>0</th>\n",
       "      <td>8427254357588219694</td>\n",
       "      <td>ShipsEar NN Classification</td>\n",
       "      <td>../data/shipsEar_AUDIOS</td>\n",
       "      <td>../data</td>\n",
       "      <td>../data/8427254357588219694_processed_data.csv</td>\n",
       "      <td>../data/wav_file_informations.csv</td>\n",
       "      <td>StratifiedKFolds</td>\n",
       "      <td>5</td>\n",
       "      <td>../data/indexes</td>\n",
       "      <td>Lofar</td>\n",
       "      <td>...</td>\n",
       "      <td>../data/pipelines</td>\n",
       "      <td>StandardScaler</td>\n",
       "      <td>../data/8427254357588219694_train_data.csv</td>\n",
       "      <td>../data/8427254357588219694_trgt_data.csv</td>\n",
       "      <td>../data/models/train_label_file.csv</td>\n",
       "      <td>../data/models/train_id_file.csv</td>\n",
       "      <td>../data/models</td>\n",
       "      <td>1</td>\n",
       "      <td>../data/models/8427254357588219694_hidden_neur...</td>\n",
       "      <td>../data/models/8427254357588219694_model_statu...</td>\n",
       "    </tr>\n",
       "  </tbody>\n",
       "</table>\n",
       "<p>1 rows × 23 columns</p>\n",
       "</div>"
      ],
      "text/plain": [
       "               hash_id                       label           wav_files_path  \\\n",
       "0  8427254357588219694  ShipsEar NN Classification  ../data/shipsEar_AUDIOS   \n",
       "\n",
       "  processed_file_folder                             processed_file_path  \\\n",
       "0               ../data  ../data/8427254357588219694_processed_data.csv   \n",
       "\n",
       "                      wav_files_info            cv_alg  cv_folds  \\\n",
       "0  ../data/wav_file_informations.csv  StratifiedKFolds         5   \n",
       "\n",
       "           cv_path preproc_alg  ...      pipeline_path      scaler_alg  \\\n",
       "0  ../data/indexes       Lofar  ...  ../data/pipelines  StandardScaler   \n",
       "\n",
       "                              train_data_path  \\\n",
       "0  ../data/8427254357588219694_train_data.csv   \n",
       "\n",
       "                             train_trgt_path  \\\n",
       "0  ../data/8427254357588219694_trgt_data.csv   \n",
       "\n",
       "                     target_label_file                    target_id_file  \\\n",
       "0  ../data/models/train_label_file.csv  ../data/models/train_id_file.csv   \n",
       "\n",
       "       model_path model_inits  \\\n",
       "0  ../data/models           1   \n",
       "\n",
       "                                       model_neurons  \\\n",
       "0  ../data/models/8427254357588219694_hidden_neur...   \n",
       "\n",
       "                                        model_status  \n",
       "0  ../data/models/8427254357588219694_model_statu...  \n",
       "\n",
       "[1 rows x 23 columns]"
      ]
     },
     "execution_count": 5,
     "metadata": {},
     "output_type": "execute_result"
    }
   ],
   "source": [
    "df_buffer.head()"
   ]
  },
  {
   "cell_type": "code",
   "execution_count": 6,
   "id": "30238186",
   "metadata": {},
   "outputs": [],
   "source": [
    "config_file_path = '../data/config.csv'\n",
    "if os.path.exists(config_file_path) == False:\n",
    "    # arquivo não existe\n",
    "    df_buffer.to_csv(config_file_path, index=False)\n",
    "else:\n",
    "    # arquivo existe\n",
    "    df_old = pd.read_csv(config_file_path)\n",
    "    if (hash_id in list(df_old['hash_id'])):\n",
    "        # o hash_id já está salvo\n",
    "        print('o hash_id já está salvo')\n",
    "    else:\n",
    "        df_old = pd.concat([df_old,df_buffer],axis=0, ignore_index=True)\n",
    "        df_old.to_csv(config_file_path)"
   ]
  },
  {
   "cell_type": "code",
   "execution_count": 7,
   "id": "1d4e6212",
   "metadata": {},
   "outputs": [],
   "source": [
    "train_id = 0\n",
    "df_config = pd.read_csv(config_file_path)"
   ]
  },
  {
   "cell_type": "code",
   "execution_count": 8,
   "id": "85e29ea2",
   "metadata": {},
   "outputs": [
    {
     "name": "stdout",
     "output_type": "stream",
     "text": [
      "O arquivo ../data/models/3359727688101666398_hidden_neurons.pkl já existe\n"
     ]
    }
   ],
   "source": [
    "hidden_neurons = [1, 2, 3, 4, 5, 6, 7, 8, 9, 10]\n",
    "#hidden_neurons = [1]\n",
    "if os.path.exists(df_config['model_neurons'][train_id]) == False:\n",
    "    write_list_of_hidden_neurons(df_config['model_neurons'][train_id],hidden_neurons)\n",
    "else:\n",
    "    print('O arquivo %s já existe'%(df_config['model_neurons'][train_id]))"
   ]
  },
  {
   "cell_type": "code",
   "execution_count": 9,
   "id": "01ac7b02",
   "metadata": {},
   "outputs": [
    {
     "name": "stdout",
     "output_type": "stream",
     "text": [
      "O arquivo ../data/models/3359727688101666398_model_status.pkl já existe\n"
     ]
    }
   ],
   "source": [
    "if os.path.exists(df_config['model_status'][train_id]) == False:\n",
    "    hidden_neurons = get_list_of_hidden_neurons(df_config['model_neurons'][train_id])\n",
    "    model_status = np.zeros([df_config['cv_folds'][train_id],len(hidden_neurons),df_config['model_inits'][train_id]],dtype=bool)\n",
    "    with open(df_config['model_status'][train_id],'wb') as file_handler:\n",
    "        pickle.dump([model_status],file_handler)\n",
    "else:\n",
    "    print('O arquivo %s já existe'%(df_config['model_status'][train_id]))"
   ]
  }
 ],
 "metadata": {
  "kernelspec": {
   "display_name": "Python 3",
   "language": "python",
   "name": "python3"
  },
  "language_info": {
   "codemirror_mode": {
    "name": "ipython",
    "version": 3
   },
   "file_extension": ".py",
   "mimetype": "text/x-python",
   "name": "python",
   "nbconvert_exporter": "python",
   "pygments_lexer": "ipython3",
   "version": "3.8.10"
  }
 },
 "nbformat": 4,
 "nbformat_minor": 5
}
