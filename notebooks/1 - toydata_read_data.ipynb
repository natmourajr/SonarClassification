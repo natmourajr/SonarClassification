{
 "cells": [
  {
   "cell_type": "markdown",
   "id": "bea2bbd2",
   "metadata": {},
   "source": [
    "# Toy Data Read Data    \n",
    "Este notebook faz carga de dados do Toy.  \n",
    "Aqui, a ideia é fazer um csv com as informações dos arquivos para ser lido sequencialmente\n"
   ]
  },
  {
   "cell_type": "markdown",
   "id": "51396b95",
   "metadata": {},
   "source": [
    "## Carga de bibliotecas"
   ]
  },
  {
   "cell_type": "code",
   "execution_count": 1,
   "id": "7b32ab8c",
   "metadata": {},
   "outputs": [],
   "source": [
    "import os\n",
    "import warnings\n",
    "from scipy import signal\n",
    "from scipy.signal import decimate, convolve, spectrogram, lfilter, cheby2, butter, cheb2ord, hilbert\n",
    "from librosa import stft, fft_frequencies, frames_to_time, feature\n",
    "import numpy as np\n",
    "import math\n",
    "import pandas as pd\n",
    "import soundfile as sf"
   ]
  },
  {
   "cell_type": "markdown",
   "id": "44be2e28",
   "metadata": {},
   "source": [
    "## Ler arquivo de configuração de treinamento"
   ]
  },
  {
   "cell_type": "code",
   "execution_count": 2,
   "id": "82f76819",
   "metadata": {},
   "outputs": [],
   "source": [
    "config_file_path = '../data/config.csv'\n",
    "df_config = pd.read_csv(config_file_path)\n",
    "\n",
    "train_id = 1"
   ]
  },
  {
   "cell_type": "code",
   "execution_count": 3,
   "id": "3b69caa9",
   "metadata": {},
   "outputs": [
    {
     "data": {
      "text/html": [
       "<div>\n",
       "<style scoped>\n",
       "    .dataframe tbody tr th:only-of-type {\n",
       "        vertical-align: middle;\n",
       "    }\n",
       "\n",
       "    .dataframe tbody tr th {\n",
       "        vertical-align: top;\n",
       "    }\n",
       "\n",
       "    .dataframe thead th {\n",
       "        text-align: right;\n",
       "    }\n",
       "</style>\n",
       "<table border=\"1\" class=\"dataframe\">\n",
       "  <thead>\n",
       "    <tr style=\"text-align: right;\">\n",
       "      <th></th>\n",
       "      <th>hash_id</th>\n",
       "      <th>label</th>\n",
       "      <th>wav_files_path</th>\n",
       "      <th>processed_file_folder</th>\n",
       "      <th>processed_file_path</th>\n",
       "      <th>wav_files_info</th>\n",
       "      <th>cv_alg</th>\n",
       "      <th>cv_folds</th>\n",
       "      <th>cv_path</th>\n",
       "      <th>preproc_alg</th>\n",
       "      <th>...</th>\n",
       "      <th>pipeline_path</th>\n",
       "      <th>scaler_alg</th>\n",
       "      <th>train_data_path</th>\n",
       "      <th>train_trgt_path</th>\n",
       "      <th>target_label_file</th>\n",
       "      <th>target_id_file</th>\n",
       "      <th>model_path</th>\n",
       "      <th>model_inits</th>\n",
       "      <th>model_neurons</th>\n",
       "      <th>model_status</th>\n",
       "    </tr>\n",
       "  </thead>\n",
       "  <tbody>\n",
       "    <tr>\n",
       "      <th>0</th>\n",
       "      <td>-7182709064797668123</td>\n",
       "      <td>ShipsEar NN Classification</td>\n",
       "      <td>../data/shipsEar_AUDIOS</td>\n",
       "      <td>../data</td>\n",
       "      <td>../data/-7182709064797668123_processed_data.csv</td>\n",
       "      <td>../data/wav_file_informations.csv</td>\n",
       "      <td>StratifiedKFolds</td>\n",
       "      <td>5</td>\n",
       "      <td>../data/indexes</td>\n",
       "      <td>Lofar</td>\n",
       "      <td>...</td>\n",
       "      <td>../data/pipelines</td>\n",
       "      <td>StandardScaler</td>\n",
       "      <td>../data/-7182709064797668123_train_data.csv</td>\n",
       "      <td>../data/-7182709064797668123_trgt_data.csv</td>\n",
       "      <td>../data/models/train_label_file.csv</td>\n",
       "      <td>../data/models/train_id_file.csv</td>\n",
       "      <td>../data/models</td>\n",
       "      <td>1</td>\n",
       "      <td>../data/models/-7182709064797668123_hidden_neu...</td>\n",
       "      <td>../data/models/-7182709064797668123_model_stat...</td>\n",
       "    </tr>\n",
       "    <tr>\n",
       "      <th>1</th>\n",
       "      <td>1518950927628997345</td>\n",
       "      <td>Toy Data Classification</td>\n",
       "      <td>../data/shipsEar_AUDIOS</td>\n",
       "      <td>../data</td>\n",
       "      <td>../data/1518950927628997345_processed_data.csv</td>\n",
       "      <td>../data/wav_file_informations.csv</td>\n",
       "      <td>StratifiedKFolds</td>\n",
       "      <td>5</td>\n",
       "      <td>../data/indexes</td>\n",
       "      <td>MFCC</td>\n",
       "      <td>...</td>\n",
       "      <td>../data/pipelines</td>\n",
       "      <td>StandardScaler</td>\n",
       "      <td>../data/1518950927628997345_train_data.csv</td>\n",
       "      <td>../data/1518950927628997345_trgt_data.csv</td>\n",
       "      <td>../data/models/train_label_file.csv</td>\n",
       "      <td>../data/models/train_id_file.csv</td>\n",
       "      <td>../data/models</td>\n",
       "      <td>1</td>\n",
       "      <td>../data/models/1518950927628997345_hidden_neur...</td>\n",
       "      <td>../data/models/1518950927628997345_model_statu...</td>\n",
       "    </tr>\n",
       "  </tbody>\n",
       "</table>\n",
       "<p>2 rows × 23 columns</p>\n",
       "</div>"
      ],
      "text/plain": [
       "               hash_id                       label           wav_files_path  \\\n",
       "0 -7182709064797668123  ShipsEar NN Classification  ../data/shipsEar_AUDIOS   \n",
       "1  1518950927628997345     Toy Data Classification  ../data/shipsEar_AUDIOS   \n",
       "\n",
       "  processed_file_folder                              processed_file_path  \\\n",
       "0               ../data  ../data/-7182709064797668123_processed_data.csv   \n",
       "1               ../data   ../data/1518950927628997345_processed_data.csv   \n",
       "\n",
       "                      wav_files_info            cv_alg  cv_folds  \\\n",
       "0  ../data/wav_file_informations.csv  StratifiedKFolds         5   \n",
       "1  ../data/wav_file_informations.csv  StratifiedKFolds         5   \n",
       "\n",
       "           cv_path preproc_alg  ...      pipeline_path      scaler_alg  \\\n",
       "0  ../data/indexes       Lofar  ...  ../data/pipelines  StandardScaler   \n",
       "1  ../data/indexes        MFCC  ...  ../data/pipelines  StandardScaler   \n",
       "\n",
       "                               train_data_path  \\\n",
       "0  ../data/-7182709064797668123_train_data.csv   \n",
       "1   ../data/1518950927628997345_train_data.csv   \n",
       "\n",
       "                              train_trgt_path  \\\n",
       "0  ../data/-7182709064797668123_trgt_data.csv   \n",
       "1   ../data/1518950927628997345_trgt_data.csv   \n",
       "\n",
       "                     target_label_file                    target_id_file  \\\n",
       "0  ../data/models/train_label_file.csv  ../data/models/train_id_file.csv   \n",
       "1  ../data/models/train_label_file.csv  ../data/models/train_id_file.csv   \n",
       "\n",
       "       model_path model_inits  \\\n",
       "0  ../data/models           1   \n",
       "1  ../data/models           1   \n",
       "\n",
       "                                       model_neurons  \\\n",
       "0  ../data/models/-7182709064797668123_hidden_neu...   \n",
       "1  ../data/models/1518950927628997345_hidden_neur...   \n",
       "\n",
       "                                        model_status  \n",
       "0  ../data/models/-7182709064797668123_model_stat...  \n",
       "1  ../data/models/1518950927628997345_model_statu...  \n",
       "\n",
       "[2 rows x 23 columns]"
      ]
     },
     "execution_count": 3,
     "metadata": {},
     "output_type": "execute_result"
    }
   ],
   "source": [
    "df_config"
   ]
  },
  {
   "cell_type": "markdown",
   "id": "335c5098",
   "metadata": {},
   "source": [
    "## Gerar os dados para treinamento"
   ]
  },
  {
   "cell_type": "code",
   "execution_count": 25,
   "id": "9625d145",
   "metadata": {},
   "outputs": [],
   "source": [
    "from sklearn.datasets import make_classification\n",
    "rng = np.random.RandomState(0)\n",
    "\n",
    "X, y = make_classification(n_samples=10000, \n",
    "                           n_features=20, \n",
    "                           n_informative=10, \n",
    "                           n_redundant=2, \n",
    "                           n_repeated=0, \n",
    "                           n_classes=4, \n",
    "                           n_clusters_per_class=2, \n",
    "                           class_sep=1.0,\n",
    "                           hypercube=True,\n",
    "                           random_state=rng,\n",
    "                           shuffle=True\n",
    "                          )"
   ]
  },
  {
   "cell_type": "code",
   "execution_count": 26,
   "id": "8f5c2b6a",
   "metadata": {},
   "outputs": [],
   "source": [
    "df_buffer = pd.DataFrame(data=X)\n",
    "df_buffer = df_buffer.add_prefix('feature_')\n",
    "df_data = df_buffer.copy(deep=True)"
   ]
  },
  {
   "cell_type": "code",
   "execution_count": 27,
   "id": "b199ab3b",
   "metadata": {},
   "outputs": [
    {
     "data": {
      "text/html": [
       "<div>\n",
       "<style scoped>\n",
       "    .dataframe tbody tr th:only-of-type {\n",
       "        vertical-align: middle;\n",
       "    }\n",
       "\n",
       "    .dataframe tbody tr th {\n",
       "        vertical-align: top;\n",
       "    }\n",
       "\n",
       "    .dataframe thead th {\n",
       "        text-align: right;\n",
       "    }\n",
       "</style>\n",
       "<table border=\"1\" class=\"dataframe\">\n",
       "  <thead>\n",
       "    <tr style=\"text-align: right;\">\n",
       "      <th></th>\n",
       "      <th>target</th>\n",
       "    </tr>\n",
       "  </thead>\n",
       "  <tbody>\n",
       "    <tr>\n",
       "      <th>0</th>\n",
       "      <td>1</td>\n",
       "    </tr>\n",
       "    <tr>\n",
       "      <th>1</th>\n",
       "      <td>1</td>\n",
       "    </tr>\n",
       "    <tr>\n",
       "      <th>2</th>\n",
       "      <td>0</td>\n",
       "    </tr>\n",
       "    <tr>\n",
       "      <th>3</th>\n",
       "      <td>0</td>\n",
       "    </tr>\n",
       "    <tr>\n",
       "      <th>4</th>\n",
       "      <td>0</td>\n",
       "    </tr>\n",
       "  </tbody>\n",
       "</table>\n",
       "</div>"
      ],
      "text/plain": [
       "   target\n",
       "0       1\n",
       "1       1\n",
       "2       0\n",
       "3       0\n",
       "4       0"
      ]
     },
     "execution_count": 27,
     "metadata": {},
     "output_type": "execute_result"
    }
   ],
   "source": [
    "df_target = pd.DataFrame(data=y, columns=['target'])\n",
    "df_target.head()"
   ]
  },
  {
   "cell_type": "code",
   "execution_count": 21,
   "id": "b3147794",
   "metadata": {},
   "outputs": [],
   "source": [
    "df_train.to_csv(df_config['train_data_path'][train_id],index=False)"
   ]
  },
  {
   "cell_type": "code",
   "execution_count": 34,
   "id": "a8cd413e",
   "metadata": {},
   "outputs": [],
   "source": [
    "df_train = pd.concat([df_data, df_target], axis=1)"
   ]
  },
  {
   "cell_type": "code",
   "execution_count": 37,
   "id": "4355ce85",
   "metadata": {},
   "outputs": [],
   "source": [
    "df_train.to_csv(df_config['train_data_path'][train_id],index=False)"
   ]
  }
 ],
 "metadata": {
  "kernelspec": {
   "display_name": "Python 3",
   "language": "python",
   "name": "python3"
  },
  "language_info": {
   "codemirror_mode": {
    "name": "ipython",
    "version": 3
   },
   "file_extension": ".py",
   "mimetype": "text/x-python",
   "name": "python",
   "nbconvert_exporter": "python",
   "pygments_lexer": "ipython3",
   "version": "3.8.10"
  }
 },
 "nbformat": 4,
 "nbformat_minor": 5
}
